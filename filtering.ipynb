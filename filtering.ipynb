{
 "cells": [
  {
   "cell_type": "code",
   "execution_count": 1,
   "id": "f0ec435f",
   "metadata": {},
   "outputs": [],
   "source": [
    "import cv2\n",
    "import numpy as np\n",
    "  \n",
    "     \n",
    "# Read the image\n",
    "img = cv2.imread('noisy.png',0)\n",
    " \n",
    "# Obtain number of rows and columns\n",
    "# of the image\n",
    "m, n = img.shape\n",
    "  \n",
    "# Develop Averaging filter(3, 3) mask\n",
    "mask = np.ones([3, 3], dtype = int)\n",
    "mask = mask / 9\n",
    "  \n",
    "# Convolve the 3X3 mask over the image\n",
    "img_new = np.zeros([m, n])\n",
    " \n",
    "for i in range(1, m-1):\n",
    "    for j in range(1, n-1):\n",
    "        temp = img[i-1, j-1]*mask[0, 0]+img[i-1, j]*mask[0, 1]+img[i-1, j + 1]*mask[0, 2]+img[i, j-1]*mask[1, 0]+ img[i, j]*mask[1, 1]+img[i, j + 1]*mask[1, 2]+img[i + 1, j-1]*mask[2, 0]+img[i + 1, j]*mask[2, 1]+img[i + 1, j + 1]*mask[2, 2]\n",
    "        \n",
    "        img_new[i, j]= temp\n",
    "         \n",
    "img_new = img_new.astype(np.uint8)\n",
    "cv2.imshow('blurred.png', img_new)\n",
    "cv2.waitKey(0)\n",
    "cv2.destroyAllWindows()\n",
    "            "
   ]
  },
  {
   "cell_type": "code",
   "execution_count": 2,
   "id": "97e97dcb",
   "metadata": {},
   "outputs": [],
   "source": [
    "import cv2\n",
    "import numpy as np\n",
    " \n",
    " \n",
    "# Read the image\n",
    "img_noisy1 = cv2.imread('noisy.png', 0)\n",
    " \n",
    "# Obtain the number of rows and columns\n",
    "# of the image\n",
    "m, n = img_noisy1.shape\n",
    "  \n",
    "# Traverse the image. For every 3X3 area,\n",
    "# find the median of the pixels and\n",
    "# replace the center pixel by the median\n",
    "img_new1 = np.zeros([m, n])\n",
    " \n",
    "for i in range(1, m-1):\n",
    "    for j in range(1, n-1):\n",
    "        temp = [img_noisy1[i-1, j-1],\n",
    "               img_noisy1[i-1, j],\n",
    "               img_noisy1[i-1, j + 1],\n",
    "               img_noisy1[i, j-1],\n",
    "               img_noisy1[i, j],\n",
    "               img_noisy1[i, j + 1],\n",
    "               img_noisy1[i + 1, j-1],\n",
    "               img_noisy1[i + 1, j],\n",
    "               img_noisy1[i + 1, j + 1]]\n",
    "         \n",
    "        temp = sorted(temp)\n",
    "        img_new1[i, j]= temp[4]\n",
    "img_new1 = img_new1.astype(np.uint8)\n",
    "cv2.imshow('new_median_filtered.png', img_new1)\n",
    "cv2.waitKey(0)\n",
    "cv2.destroyAllWindows()\n",
    "            "
   ]
  },
  {
   "cell_type": "code",
   "execution_count": null,
   "id": "ee3ac487",
   "metadata": {},
   "outputs": [],
   "source": []
  },
  {
   "cell_type": "code",
   "execution_count": null,
   "id": "9e1276f6",
   "metadata": {},
   "outputs": [],
   "source": []
  },
  {
   "cell_type": "code",
   "execution_count": null,
   "id": "1644e84d",
   "metadata": {},
   "outputs": [],
   "source": []
  }
 ],
 "metadata": {
  "kernelspec": {
   "display_name": "Python 3 (ipykernel)",
   "language": "python",
   "name": "python3"
  },
  "language_info": {
   "codemirror_mode": {
    "name": "ipython",
    "version": 3
   },
   "file_extension": ".py",
   "mimetype": "text/x-python",
   "name": "python",
   "nbconvert_exporter": "python",
   "pygments_lexer": "ipython3",
   "version": "3.9.7"
  }
 },
 "nbformat": 4,
 "nbformat_minor": 5
}
