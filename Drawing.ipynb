{
 "cells": [
  {
   "cell_type": "code",
   "execution_count": 3,
   "id": "3088d8b7",
   "metadata": {},
   "outputs": [
    {
     "data": {
      "text/plain": [
       "-1"
      ]
     },
     "execution_count": 3,
     "metadata": {},
     "output_type": "execute_result"
    }
   ],
   "source": [
    "import cv2\n",
    "import numpy as np\n",
    "image = cv2.imread('car3.jpg')\n",
    "\n",
    "\n",
    "hsv_img = cv2.cvtColor(image, cv2.COLOR_BGR2HSV) \n",
    "s_ch = hsv_img[:, :, 1]  \n",
    "thesh = cv2.threshold(s_ch, 5, 255, cv2.THRESH_BINARY)[1]  \n",
    "thesh = cv2.morphologyEx(thesh, cv2.MORPH_OPEN, cv2.getStructuringElement(cv2.MORPH_ELLIPSE, (7, 7)))\n",
    "\n",
    "cv2.floodFill(thesh, None, seedPoint=(0, 0), newVal=128, loDiff=1, upDiff=1) \n",
    "\n",
    "image[thesh == 128] = (0, 0, 255)  \n",
    "#cv2.imwrite('tulips_red_bg.jpg', image) \n",
    "cv2.imshow(' ',image)\n",
    "cv2.waitKey(0)"
   ]
  },
  {
   "cell_type": "code",
   "execution_count": 4,
   "id": "a62fd585",
   "metadata": {},
   "outputs": [
    {
     "data": {
      "text/plain": [
       "-1"
      ]
     },
     "execution_count": 4,
     "metadata": {},
     "output_type": "execute_result"
    }
   ],
   "source": [
    "import cv2\n",
    "import numpy as np\n",
    "image = cv2.imread('car3.jpg')\n",
    "\n",
    "\n",
    "hsv_img = cv2.cvtColor(image, cv2.COLOR_BGR2HSV) \n",
    "s_ch = hsv_img[:, :, 1]  \n",
    "thesh = cv2.threshold(s_ch, 5, 255, cv2.THRESH_BINARY)[1]  \n",
    "thesh = cv2.morphologyEx(thesh, cv2.MORPH_OPEN, cv2.getStructuringElement(cv2.MORPH_ELLIPSE, (7, 7)))\n",
    "\n",
    "cv2.floodFill(thesh, None, seedPoint=(0, 0), newVal=128, loDiff=1, upDiff=1) \n",
    "\n",
    "image[thesh == 128] = (0,255, 0)  \n",
    "#cv2.imwrite('tulips_green_bg.jpg', image) \n",
    "cv2.imshow(' ',image)\n",
    "cv2.waitKey(0)"
   ]
  },
  {
   "cell_type": "code",
   "execution_count": 6,
   "id": "ae344ede",
   "metadata": {},
   "outputs": [
    {
     "data": {
      "text/plain": [
       "-1"
      ]
     },
     "execution_count": 6,
     "metadata": {},
     "output_type": "execute_result"
    }
   ],
   "source": [
    "import cv2\n",
    "import numpy as np\n",
    "image = cv2.imread('car3.jpg')\n",
    "\n",
    "\n",
    "hsv_img = cv2.cvtColor(image, cv2.COLOR_BGR2HSV) \n",
    "s_ch = hsv_img[:, :, 1]  \n",
    "thesh = cv2.threshold(s_ch, 5, 255, cv2.THRESH_BINARY)[1]  \n",
    "thesh = cv2.morphologyEx(thesh, cv2.MORPH_OPEN, cv2.getStructuringElement(cv2.MORPH_ELLIPSE, (7, 7)))\n",
    "\n",
    "cv2.floodFill(thesh, None, seedPoint=(0, 0), newVal=128, loDiff=1, upDiff=1) \n",
    "\n",
    "image[thesh == 128] = (255,0, 0)  \n",
    "#cv2.imwrite('tulips_blue_bg.jpg', image) \n",
    "cv2.imshow(' ',image)\n",
    "cv2.waitKey(0)"
   ]
  },
  {
   "cell_type": "code",
   "execution_count": null,
   "id": "78a7f504",
   "metadata": {},
   "outputs": [],
   "source": []
  }
 ],
 "metadata": {
  "kernelspec": {
   "display_name": "Python 3 (ipykernel)",
   "language": "python",
   "name": "python3"
  },
  "language_info": {
   "codemirror_mode": {
    "name": "ipython",
    "version": 3
   },
   "file_extension": ".py",
   "mimetype": "text/x-python",
   "name": "python",
   "nbconvert_exporter": "python",
   "pygments_lexer": "ipython3",
   "version": "3.9.7"
  }
 },
 "nbformat": 4,
 "nbformat_minor": 5
}
